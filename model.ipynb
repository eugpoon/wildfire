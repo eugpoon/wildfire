{
 "cells": [
  {
   "cell_type": "code",
   "execution_count": 20,
   "id": "9f801984",
   "metadata": {},
   "outputs": [],
   "source": [
    "import pandas as pd\n",
    "import pickle as pkl\n",
    "import numpy as np \n",
    "import seaborn as sns\n",
    "from scipy import stats\n",
    "import statsmodels.api as sm\n",
    "import matplotlib.pyplot as plt\n",
    "import statsmodels.formula.api as smf\n",
    "from sklearn.metrics import accuracy_score\n",
    "from sklearn.tree import DecisionTreeClassifier\n",
    "from sklearn.linear_model import LogisticRegression\n",
    "from sklearn.metrics import confusion_matrix, accuracy_score\n",
    "from sklearn.model_selection import train_test_split, GridSearchCV\n",
    "from sklearn.discriminant_analysis import LinearDiscriminantAnalysis\n",
    "from statsmodels.stats.outliers_influence import variance_inflation_factor\n",
    "from sklearn.ensemble import GradientBoostingClassifier, RandomForestClassifier"
   ]
  },
  {
   "cell_type": "markdown",
   "id": "ac3dc436",
   "metadata": {},
   "source": [
    "# Import data"
   ]
  },
  {
   "cell_type": "code",
   "execution_count": 2,
   "id": "9f3ebb4f",
   "metadata": {},
   "outputs": [
    {
     "name": "stdout",
     "output_type": "stream",
     "text": [
      "<class 'pandas.core.frame.DataFrame'>\n",
      "RangeIndex: 122342 entries, 0 to 122341\n",
      "Data columns (total 7 columns):\n",
      " #   Column             Non-Null Count   Dtype         \n",
      "---  ------             --------------   -----         \n",
      " 0   day                122342 non-null  datetime64[ns]\n",
      " 1   season             122342 non-null  object        \n",
      " 2   burning_index_g    122342 non-null  float64       \n",
      " 3   relative_humidity  122342 non-null  float64       \n",
      " 4   air_temperature    122342 non-null  float64       \n",
      " 5   wind_speed         122342 non-null  float64       \n",
      " 6   fire               122342 non-null  int64         \n",
      "dtypes: datetime64[ns](1), float64(4), int64(1), object(1)\n",
      "memory usage: 6.5+ MB\n"
     ]
    },
    {
     "data": {
      "text/html": [
       "<div>\n",
       "<style scoped>\n",
       "    .dataframe tbody tr th:only-of-type {\n",
       "        vertical-align: middle;\n",
       "    }\n",
       "\n",
       "    .dataframe tbody tr th {\n",
       "        vertical-align: top;\n",
       "    }\n",
       "\n",
       "    .dataframe thead th {\n",
       "        text-align: right;\n",
       "    }\n",
       "</style>\n",
       "<table border=\"1\" class=\"dataframe\">\n",
       "  <thead>\n",
       "    <tr style=\"text-align: right;\">\n",
       "      <th></th>\n",
       "      <th>day</th>\n",
       "      <th>season</th>\n",
       "      <th>burning_index_g</th>\n",
       "      <th>relative_humidity</th>\n",
       "      <th>air_temperature</th>\n",
       "      <th>wind_speed</th>\n",
       "      <th>fire</th>\n",
       "    </tr>\n",
       "  </thead>\n",
       "  <tbody>\n",
       "    <tr>\n",
       "      <th>0</th>\n",
       "      <td>2017-01-01</td>\n",
       "      <td>winter</td>\n",
       "      <td>0.0</td>\n",
       "      <td>55.100002</td>\n",
       "      <td>273.799988</td>\n",
       "      <td>4.6</td>\n",
       "      <td>0</td>\n",
       "    </tr>\n",
       "    <tr>\n",
       "      <th>1</th>\n",
       "      <td>2017-01-01</td>\n",
       "      <td>winter</td>\n",
       "      <td>0.0</td>\n",
       "      <td>43.700001</td>\n",
       "      <td>277.000000</td>\n",
       "      <td>4.8</td>\n",
       "      <td>0</td>\n",
       "    </tr>\n",
       "    <tr>\n",
       "      <th>2</th>\n",
       "      <td>2017-01-01</td>\n",
       "      <td>winter</td>\n",
       "      <td>0.0</td>\n",
       "      <td>47.799999</td>\n",
       "      <td>276.000000</td>\n",
       "      <td>5.1</td>\n",
       "      <td>0</td>\n",
       "    </tr>\n",
       "    <tr>\n",
       "      <th>3</th>\n",
       "      <td>2017-01-01</td>\n",
       "      <td>winter</td>\n",
       "      <td>0.0</td>\n",
       "      <td>63.900002</td>\n",
       "      <td>272.100006</td>\n",
       "      <td>5.6</td>\n",
       "      <td>0</td>\n",
       "    </tr>\n",
       "    <tr>\n",
       "      <th>4</th>\n",
       "      <td>2017-01-01</td>\n",
       "      <td>winter</td>\n",
       "      <td>0.0</td>\n",
       "      <td>53.299999</td>\n",
       "      <td>273.299988</td>\n",
       "      <td>6.0</td>\n",
       "      <td>0</td>\n",
       "    </tr>\n",
       "  </tbody>\n",
       "</table>\n",
       "</div>"
      ],
      "text/plain": [
       "         day  season  burning_index_g  relative_humidity  air_temperature  \\\n",
       "0 2017-01-01  winter              0.0          55.100002       273.799988   \n",
       "1 2017-01-01  winter              0.0          43.700001       277.000000   \n",
       "2 2017-01-01  winter              0.0          47.799999       276.000000   \n",
       "3 2017-01-01  winter              0.0          63.900002       272.100006   \n",
       "4 2017-01-01  winter              0.0          53.299999       273.299988   \n",
       "\n",
       "   wind_speed  fire  \n",
       "0         4.6     0  \n",
       "1         4.8     0  \n",
       "2         5.1     0  \n",
       "3         5.6     0  \n",
       "4         6.0     0  "
      ]
     },
     "metadata": {},
     "output_type": "display_data"
    }
   ],
   "source": [
    "fire_data = pd.DataFrame(pd.read_pickle('data/gridmet.pkl')).dropna()\n",
    "fire_data.columns = pd.read_pickle('data/gridmetCols.pkl')\n",
    "\n",
    "# convert data type\n",
    "fire_data = fire_data.apply(pd.to_numeric, errors='ignore')\n",
    "fire_data.day = pd.to_datetime(fire_data.day)\n",
    "\n",
    "# # remove outliers: might not make sense to do\n",
    "# fire_num = fire_data.select_dtypes(include=np.number)\n",
    "# fire_num = fire_num[(np.abs(stats.zscore(fire_num)) < 3).all(axis=1)]\n",
    "# fire_not = fire_data.select_dtypes(exclude=np.number)\n",
    "# fire_data = (fire_num.merge(fire_not, left_index=True, right_index=True)\n",
    "#             .reset_index(drop=True))\n",
    "\n",
    "fire_data.info()\n",
    "display(fire_data.head())"
   ]
  },
  {
   "cell_type": "markdown",
   "id": "b2e5a95a",
   "metadata": {},
   "source": [
    "## Get Sample (n=40000)"
   ]
  },
  {
   "cell_type": "code",
   "execution_count": 3,
   "id": "db5b17ca",
   "metadata": {},
   "outputs": [
    {
     "name": "stdout",
     "output_type": "stream",
     "text": [
      "<class 'pandas.core.frame.DataFrame'>\n",
      "Int64Index: 40000 entries, 96420 to 25954\n",
      "Data columns (total 7 columns):\n",
      " #   Column             Non-Null Count  Dtype         \n",
      "---  ------             --------------  -----         \n",
      " 0   day                40000 non-null  datetime64[ns]\n",
      " 1   season             40000 non-null  object        \n",
      " 2   burning_index_g    40000 non-null  float64       \n",
      " 3   relative_humidity  40000 non-null  float64       \n",
      " 4   air_temperature    40000 non-null  float64       \n",
      " 5   wind_speed         40000 non-null  float64       \n",
      " 6   fire               40000 non-null  int64         \n",
      "dtypes: datetime64[ns](1), float64(4), int64(1), object(1)\n",
      "memory usage: 2.4+ MB\n"
     ]
    }
   ],
   "source": [
    "fire_samp = fire_data.sample(n=40000, random_state=88)\n",
    "fire_samp.info()"
   ]
  },
  {
   "cell_type": "markdown",
   "id": "7a8195b0",
   "metadata": {},
   "source": [
    "## Convert Season Column to Dummy Variable"
   ]
  },
  {
   "cell_type": "code",
   "execution_count": 4,
   "id": "1ddbe066",
   "metadata": {},
   "outputs": [
    {
     "name": "stdout",
     "output_type": "stream",
     "text": [
      "<class 'pandas.core.frame.DataFrame'>\n",
      "Int64Index: 40000 entries, 96420 to 25954\n",
      "Data columns (total 10 columns):\n",
      " #   Column             Non-Null Count  Dtype         \n",
      "---  ------             --------------  -----         \n",
      " 0   day                40000 non-null  datetime64[ns]\n",
      " 1   burning_index_g    40000 non-null  float64       \n",
      " 2   relative_humidity  40000 non-null  float64       \n",
      " 3   air_temperature    40000 non-null  float64       \n",
      " 4   wind_speed         40000 non-null  float64       \n",
      " 5   fire               40000 non-null  int64         \n",
      " 6   autumn             40000 non-null  uint8         \n",
      " 7   spring             40000 non-null  uint8         \n",
      " 8   summer             40000 non-null  uint8         \n",
      " 9   winter             40000 non-null  uint8         \n",
      "dtypes: datetime64[ns](1), float64(4), int64(1), uint8(4)\n",
      "memory usage: 3.3 MB\n"
     ]
    }
   ],
   "source": [
    "fire_samp = (fire_samp.drop(['season'], axis=1)\n",
    "             .merge(pd.get_dummies(fire_samp.season), \n",
    "                    left_index=True, right_index=True))\n",
    "fire_samp.info()"
   ]
  },
  {
   "cell_type": "markdown",
   "id": "8eb20abf",
   "metadata": {},
   "source": [
    "## Split into train and test"
   ]
  },
  {
   "cell_type": "code",
   "execution_count": 5,
   "id": "e8252625",
   "metadata": {},
   "outputs": [
    {
     "data": {
      "text/plain": [
       "((28000, 8), (12000, 8), (28000,), (12000,))"
      ]
     },
     "execution_count": 5,
     "metadata": {},
     "output_type": "execute_result"
    }
   ],
   "source": [
    "y = fire_samp['fire']\n",
    "X = fire_samp.drop(columns=['fire', 'day'])\n",
    "X_train, X_test, y_train, y_test = train_test_split(X, y, test_size=0.3, random_state=88)\n",
    "X_train.shape, X_test.shape, y_train.shape, y_test.shape"
   ]
  },
  {
   "cell_type": "code",
   "execution_count": 6,
   "id": "c0d9a629",
   "metadata": {},
   "outputs": [
    {
     "data": {
      "text/plain": [
       "Index(['burning_index_g', 'relative_humidity', 'air_temperature',\n",
       "       'wind_speed'],\n",
       "      dtype='object')"
      ]
     },
     "execution_count": 6,
     "metadata": {},
     "output_type": "execute_result"
    }
   ],
   "source": [
    "X_train.select_dtypes(exclude='uint8').columns"
   ]
  },
  {
   "cell_type": "markdown",
   "id": "201f908b",
   "metadata": {},
   "source": [
    "# Models"
   ]
  },
  {
   "cell_type": "code",
   "execution_count": 7,
   "id": "ab2500e4",
   "metadata": {},
   "outputs": [
    {
     "data": {
      "text/plain": [
       "burning_index_g      2.899758\n",
       "relative_humidity    3.309895\n",
       "air_temperature      2.444346\n",
       "wind_speed           1.340995\n",
       "dtype: float64"
      ]
     },
     "execution_count": 7,
     "metadata": {},
     "output_type": "execute_result"
    }
   ],
   "source": [
    "# remove numerical columns with VIF > 5; not dummy variables\n",
    "def VIF(df, columns):\n",
    "    values = sm.add_constant(df[columns]).values\n",
    "    num_columns = len(columns)+1\n",
    "    vif = [variance_inflation_factor(values, i) for i in range(num_columns)]\n",
    "    return pd.Series(vif[1:], index=columns)\n",
    "\n",
    "VIF(X_train, X_train.select_dtypes(exclude='uint8').columns)"
   ]
  },
  {
   "cell_type": "code",
   "execution_count": 8,
   "id": "2fd44272",
   "metadata": {},
   "outputs": [],
   "source": [
    "def scores(y_test, y_pred):\n",
    "    cm  = confusion_matrix(y_test, y_pred)\n",
    "    acc = accuracy_score(y_test, y_pred)\n",
    "    TPR = cm[1][1] / sum(cm[1])            # TP/(TP+FP)\n",
    "    FPR = cm[0][1] / sum(cm[0])            # FP/(FP+TN)\n",
    "    PRE = cm[1][1] / (cm[0][1] + cm[1][1]) # TP/(TP+FP)\n",
    "    print(f'Accuracy: {acc:.4f}, TPR: {TPR:.4f}, FPR: {FPR:.4f}, Precision: {PRE:.4f}')\n",
    "    return acc, TPR, FPR, PRE"
   ]
  },
  {
   "cell_type": "markdown",
   "id": "80035022",
   "metadata": {},
   "source": [
    "## Baseline"
   ]
  },
  {
   "cell_type": "code",
   "execution_count": 9,
   "id": "914d4bb3",
   "metadata": {},
   "outputs": [
    {
     "name": "stdout",
     "output_type": "stream",
     "text": [
      "Accuracy: 0.5923, TPR: 0.0000, FPR: 0.0000, Precision: 0.0000\n"
     ]
    }
   ],
   "source": [
    "cm = confusion_matrix(y_test,[0]*y_test.shape[0])\n",
    "baseline_acc = y_test.value_counts().values.max() / len(y_test)\n",
    "baseline_TPR = cm[1][1] / sum(cm[1])\n",
    "baseline_FPR = cm[0][1] / sum(cm[0])\n",
    "baseline_PRE = 0 \n",
    "print(f'Accuracy: {baseline_acc:.4f}, TPR: {baseline_TPR:.4f}, FPR: {baseline_FPR:.4f}, Precision: {baseline_PRE:.4f}')"
   ]
  },
  {
   "cell_type": "markdown",
   "id": "fe54927c",
   "metadata": {},
   "source": [
    "## Logistic Regression"
   ]
  },
  {
   "cell_type": "code",
   "execution_count": 10,
   "id": "5e56ad88",
   "metadata": {},
   "outputs": [
    {
     "name": "stdout",
     "output_type": "stream",
     "text": [
      "Accuracy: 0.8012, TPR: 0.7966, FPR: 0.1957, Precision: 0.7370\n"
     ]
    }
   ],
   "source": [
    "log = LogisticRegression(random_state=88)\n",
    "log.fit(X_train, y_train)\n",
    "y_pred = log.predict(X_test)\n",
    "log_acc,log_TPR,log_FPR,log_PRE = scores(y_test, y_pred)"
   ]
  },
  {
   "cell_type": "markdown",
   "id": "cad4655f",
   "metadata": {},
   "source": [
    "## CART: Decision Tree Classification"
   ]
  },
  {
   "cell_type": "code",
   "execution_count": 11,
   "id": "454c8b2c",
   "metadata": {},
   "outputs": [
    {
     "name": "stdout",
     "output_type": "stream",
     "text": [
      "Accuracy: 0.7946, TPR: 0.7456, FPR: 0.1717, Precision: 0.7494\n"
     ]
    }
   ],
   "source": [
    "# without cross validation \n",
    "dtc = DecisionTreeClassifier(min_samples_leaf=5, min_samples_split=20, \n",
    "                             random_state=88)\n",
    "dtc.fit(X_train, y_train)\n",
    "y_pred = dtc.predict(X_test)\n",
    "dtc_acc,dtc_TPR,dtc_FPR,dtc_PRE = scores(y_test, y_pred)"
   ]
  },
  {
   "cell_type": "code",
   "execution_count": 12,
   "id": "9688a477",
   "metadata": {},
   "outputs": [
    {
     "name": "stdout",
     "output_type": "stream",
     "text": [
      "Best ccp_alpha: 0.0005\n",
      "Accuracy: 0.8303, TPR: 0.8314, FPR: 0.1705, Precision: 0.7705\n"
     ]
    }
   ],
   "source": [
    "# with cross validation \n",
    "grid_values = {'ccp_alpha': np.linspace(0, 0.10, 201),\n",
    "               'min_samples_leaf': [5],\n",
    "               'min_samples_split': [20],\n",
    "               'random_state': [88]}\n",
    "\n",
    "dtc_c = DecisionTreeClassifier(random_state=88)\n",
    "dtc_cv = GridSearchCV(dtc_c, param_grid=grid_values, scoring='accuracy', cv=10) \n",
    "dtc_cv.fit(X_train, y_train)\n",
    "y_pred = dtc_cv.best_estimator_.predict(X_test)\n",
    "\n",
    "cart_best_ccp_alpha = dtc_cv.best_params_['ccp_alpha']\n",
    "print(f'Best ccp_alpha: {cart_best_ccp_alpha:.4f}')\n",
    "dtc_cv_acc,dtc_cv_TPR,dtc_cv_FPR,dtc_cv_PRE = scores(y_test, y_pred)"
   ]
  },
  {
   "cell_type": "markdown",
   "id": "bfce91f1",
   "metadata": {},
   "source": [
    "## Random Forest"
   ]
  },
  {
   "cell_type": "code",
   "execution_count": 13,
   "id": "634bc36f",
   "metadata": {},
   "outputs": [
    {
     "name": "stdout",
     "output_type": "stream",
     "text": [
      "Accuracy: 0.8330, TPR: 0.8238, FPR: 0.1607, Precision: 0.7792\n"
     ]
    }
   ],
   "source": [
    "# without cross validation: vanilla bagging\n",
    "rf = RandomForestClassifier(max_features=X_train.shape[1], min_samples_leaf=5, \n",
    "                            n_estimators=500, random_state=88)\n",
    "rf.fit(X_train, y_train)\n",
    "y_pred = rf.predict(X_test)\n",
    "\n",
    "rf_acc,rf_TPR,rf_FPR,rf_PRE = scores(y_test, y_pred)"
   ]
  },
  {
   "cell_type": "code",
   "execution_count": 14,
   "id": "ee9027c7",
   "metadata": {},
   "outputs": [
    {
     "name": "stdout",
     "output_type": "stream",
     "text": [
      "Accuracy: 0.8346, TPR: 0.8283, FPR: 0.1611, Precision: 0.7797\n"
     ]
    }
   ],
   "source": [
    "# with cross validation \n",
    "grid_values = {'max_features': np.arange(1, X_train.shape[1]),\n",
    "               'min_samples_leaf': [5],\n",
    "               'n_estimators': [500],\n",
    "               'random_state': [88]}\n",
    "\n",
    "rf_c = RandomForestClassifier(random_state=88)\n",
    "rf_cv = GridSearchCV(rf_c, param_grid=grid_values, scoring='accuracy', cv=10)\n",
    "rf_cv.fit(X_train, y_train)\n",
    "\n",
    "y_pred = rf_cv.predict(X_test)\n",
    "\n",
    "rf_max_features = rf_cv.best_params_['max_features']\n",
    "rf_cv_acc,rf_cv_TPR,rf_cv_FPR,rf_cv_PRE = scores(y_test, y_pred)"
   ]
  },
  {
   "cell_type": "markdown",
   "id": "4b22bc6c",
   "metadata": {},
   "source": [
    "## Linear Discriminant Analysis"
   ]
  },
  {
   "cell_type": "code",
   "execution_count": 15,
   "id": "d0b701a2",
   "metadata": {},
   "outputs": [
    {
     "name": "stdout",
     "output_type": "stream",
     "text": [
      "Accuracy: 0.8108, TPR: 0.8680, FPR: 0.2285, Precision: 0.7234\n"
     ]
    }
   ],
   "source": [
    "lda = LinearDiscriminantAnalysis()\n",
    "lda.fit(X_train, y_train)\n",
    "y_pred = lda.predict(X_test)\n",
    "lda_acc,lda_TPR,lda_FPR,lda_PRE = scores(y_test, y_pred)"
   ]
  },
  {
   "cell_type": "markdown",
   "id": "ab96e13b",
   "metadata": {},
   "source": [
    "## Gradient Boosting Classifier"
   ]
  },
  {
   "cell_type": "code",
   "execution_count": 16,
   "id": "96ffaffe",
   "metadata": {},
   "outputs": [
    {
     "name": "stdout",
     "output_type": "stream",
     "text": [
      "Accuracy: 0.8278, TPR: 0.8101, FPR: 0.1600, Precision: 0.7771\n"
     ]
    }
   ],
   "source": [
    "gbc = GradientBoostingClassifier(n_estimators=3300, max_leaf_nodes=10, \n",
    "                                 random_state=88) \n",
    "gbc.fit(X_train, y_train)\n",
    "y_pred = gbc.predict(X_test)\n",
    "gbc_acc,gbc_TPR,gbc_FPR,gbc_PRE = scores(y_test, y_pred)"
   ]
  },
  {
   "cell_type": "markdown",
   "id": "b5e8e2a9",
   "metadata": {},
   "source": [
    "# Comparison table"
   ]
  },
  {
   "cell_type": "code",
   "execution_count": 17,
   "id": "03e8d079",
   "metadata": {},
   "outputs": [
    {
     "data": {
      "text/html": [
       "<div>\n",
       "<style scoped>\n",
       "    .dataframe tbody tr th:only-of-type {\n",
       "        vertical-align: middle;\n",
       "    }\n",
       "\n",
       "    .dataframe tbody tr th {\n",
       "        vertical-align: top;\n",
       "    }\n",
       "\n",
       "    .dataframe thead th {\n",
       "        text-align: right;\n",
       "    }\n",
       "</style>\n",
       "<table border=\"1\" class=\"dataframe\">\n",
       "  <thead>\n",
       "    <tr style=\"text-align: right;\">\n",
       "      <th></th>\n",
       "      <th>Accuracy</th>\n",
       "      <th>TPR</th>\n",
       "      <th>FPR</th>\n",
       "      <th>PRE</th>\n",
       "    </tr>\n",
       "  </thead>\n",
       "  <tbody>\n",
       "    <tr>\n",
       "      <th>Baseline</th>\n",
       "      <td>0.592250</td>\n",
       "      <td>0.000000</td>\n",
       "      <td>0.000000</td>\n",
       "      <td>0.000000</td>\n",
       "    </tr>\n",
       "    <tr>\n",
       "      <th>Logistic Regression</th>\n",
       "      <td>0.801167</td>\n",
       "      <td>0.796648</td>\n",
       "      <td>0.195723</td>\n",
       "      <td>0.737001</td>\n",
       "    </tr>\n",
       "    <tr>\n",
       "      <th>Decision Tree Classifier</th>\n",
       "      <td>0.794583</td>\n",
       "      <td>0.745555</td>\n",
       "      <td>0.171662</td>\n",
       "      <td>0.749384</td>\n",
       "    </tr>\n",
       "    <tr>\n",
       "      <th>Decision Tree Classifier with CV</th>\n",
       "      <td>0.830250</td>\n",
       "      <td>0.831392</td>\n",
       "      <td>0.170536</td>\n",
       "      <td>0.770455</td>\n",
       "    </tr>\n",
       "    <tr>\n",
       "      <th>Random Forest</th>\n",
       "      <td>0.833000</td>\n",
       "      <td>0.823830</td>\n",
       "      <td>0.160687</td>\n",
       "      <td>0.779238</td>\n",
       "    </tr>\n",
       "    <tr>\n",
       "      <th>Random Forest with CV</th>\n",
       "      <td>0.834583</td>\n",
       "      <td>0.828326</td>\n",
       "      <td>0.161109</td>\n",
       "      <td>0.779723</td>\n",
       "    </tr>\n",
       "    <tr>\n",
       "      <th>Linear Discriminant Analysis</th>\n",
       "      <td>0.810833</td>\n",
       "      <td>0.867975</td>\n",
       "      <td>0.228507</td>\n",
       "      <td>0.723386</td>\n",
       "    </tr>\n",
       "  </tbody>\n",
       "</table>\n",
       "</div>"
      ],
      "text/plain": [
       "                                  Accuracy       TPR       FPR       PRE\n",
       "Baseline                          0.592250  0.000000  0.000000  0.000000\n",
       "Logistic Regression               0.801167  0.796648  0.195723  0.737001\n",
       "Decision Tree Classifier          0.794583  0.745555  0.171662  0.749384\n",
       "Decision Tree Classifier with CV  0.830250  0.831392  0.170536  0.770455\n",
       "Random Forest                     0.833000  0.823830  0.160687  0.779238\n",
       "Random Forest with CV             0.834583  0.828326  0.161109  0.779723\n",
       "Linear Discriminant Analysis      0.810833  0.867975  0.228507  0.723386"
      ]
     },
     "execution_count": 17,
     "metadata": {},
     "output_type": "execute_result"
    }
   ],
   "source": [
    "#Create Comparison Table\n",
    "#These lines are provided for you to help construct a comparison table.\n",
    "#It is not requred to follow this format. + You need to find ACC, TPR, FPR, PRE for each model that you choose.\n",
    "comparison_data = {'Baseline':[baseline_acc,baseline_TPR,baseline_FPR, baseline_PRE],\n",
    "                   'Logistic Regression':[log_acc,log_TPR,log_FPR, log_PRE],\n",
    "                   'Decision Tree Classifier':[dtc_acc,dtc_TPR,dtc_FPR,dtc_PRE],\n",
    "                   'Decision Tree Classifier with CV':[dtc_cv_acc,dtc_cv_TPR,dtc_cv_FPR,dtc_cv_PRE],\n",
    "                   'Random Forest':[rf_acc,rf_TPR, rf_FPR,rf_PRE],\n",
    "                   'Random Forest with CV':[rf_cv_acc,rf_cv_TPR,rf_cv_FPR,rf_cv_PRE],\n",
    "                   'Linear Discriminant Analysis':[lda_acc,lda_TPR, lda_FPR,lda_PRE]}\n",
    "\n",
    "comparison_table = pd.DataFrame(data=comparison_data, index=['Accuracy', 'TPR', 'FPR','PRE']).transpose()\n",
    "comparison_table"
   ]
  },
  {
   "cell_type": "markdown",
   "id": "bd778703",
   "metadata": {},
   "source": [
    "# Bootstrap"
   ]
  },
  {
   "cell_type": "code",
   "execution_count": 18,
   "id": "09176133",
   "metadata": {},
   "outputs": [],
   "source": [
    "import seaborn as sns\n",
    "def perform_bootstrap(X_test, y_test, models: dict, sample=500, random_state=88):\n",
    "    \"\"\"\n",
    "    TODO: Complete the function to perform bootstrap.\n",
    "    Function should return a dictionary of results from the bootstap. \n",
    "    We should be able to run your function exactly as is and reproduce the same results.\n",
    "    Check random seed when sampling\n",
    "    \"\"\"    \n",
    "    results = dict()\n",
    "    for m in range(len(models)):\n",
    "        results[list(models.keys())[m]] = []\n",
    "    for bs_iter in range(sample):\n",
    "        bs_index = np.random.choice(X_test.index, len(X_test.index), replace=True)\n",
    "        bs_data = X_test.loc[bs_index]\n",
    "        bs_test = y_test.loc[bs_index]\n",
    "        for m in range(len(models)):\n",
    "            model = list(models.values())[m]\n",
    "            try:\n",
    "                bs_pred = model.predict(bs_data)\n",
    "            except:\n",
    "                bs_pred = model.best_estimator_.predict(bs_data)\n",
    "            cm = confusion_matrix(bs_test, bs_pred)\n",
    "            acc = accuracy_score(bs_test, bs_pred)\n",
    "            TPR = cm[1][1] / sum(cm[1])\n",
    "            FPR = cm[0][1] / sum(cm[0])\n",
    "            results[list(models.keys())[m]].append([acc, TPR, FPR])\n",
    "    return results\n",
    "models = {'Logistic Regression':log, 'DTC':dtc, 'DTC with CV':dtc_cv, \n",
    "          'Random Forest':rf, 'Random Forest':rf_cv, \n",
    "          'Linear Discriminant Analysis':lda, 'Gradient Booster Classification':gbc}\n",
    "# [acc, TPR, FPR]\n",
    "bs = perform_bootstrap(X_test, y_test, models, sample=1000)"
   ]
  },
  {
   "cell_type": "code",
   "execution_count": 21,
   "id": "b71bf0fb",
   "metadata": {},
   "outputs": [
    {
     "data": {
      "image/png": "[encoded data removed]",
      "text/plain": [
       "<Figure size 640x480 with 1 Axes>"
      ]
     },
     "metadata": {},
     "output_type": "display_data"
    }
   ],
   "source": [
    "# Bootstrap: Accuracy\n",
    "for i in range(len(bs)):\n",
    "    sns.histplot(np.array(list(bs.values())[i])[:,0], \n",
    "                 edgecolor='white', color=sns.color_palette()[i]);\n",
    "plt.legend(title='Model', labels=list(bs.keys()));\n",
    "plt.title('Bootstrap: Accuracy');"
   ]
  },
  {
   "cell_type": "code",
   "execution_count": 22,
   "id": "a3959066",
   "metadata": {},
   "outputs": [
    {
     "data": {
      "image/png": "[encoded data removed]",
      "text/plain": [
       "<Figure size 640x480 with 1 Axes>"
      ]
     },
     "metadata": {},
     "output_type": "display_data"
    }
   ],
   "source": [
    "# Bootstrap: TPR\n",
    "for i in range(len(bs)):\n",
    "    sns.histplot(np.array(list(bs.values())[i])[:,1], \n",
    "                 edgecolor='white', color=sns.color_palette()[i]);\n",
    "plt.legend(title='Model', labels=list(bs.keys()));\n",
    "plt.title('Bootstrap: TPR');"
   ]
  },
  {
   "cell_type": "code",
   "execution_count": 23,
   "id": "519cac50",
   "metadata": {},
   "outputs": [
    {
     "data": {
      "image/png": "[encoded data removed]",
      "text/plain": [
       "<Figure size 640x480 with 1 Axes>"
      ]
     },
     "metadata": {},
     "output_type": "display_data"
    }
   ],
   "source": [
    "# Bootstrap: FPR\n",
    "for i in range(len(bs)):\n",
    "    sns.histplot(np.array(list(bs.values())[i])[:,2], \n",
    "                 edgecolor='white', color=sns.color_palette()[i]);\n",
    "plt.legend(title='Model', labels=list(bs.keys()));\n",
    "plt.title('Bootstrap: FPR');"
   ]
  },
  {
   "cell_type": "code",
   "execution_count": null,
   "id": "d90684ad",
   "metadata": {},
   "outputs": [],
   "source": []
  }
 ],
 "metadata": {
  "kernelspec": {
   "display_name": "Python 3 (ipykernel)",
   "language": "python",
   "name": "python3"
  },
  "language_info": {
   "codemirror_mode": {
    "name": "ipython",
    "version": 3
   },
   "file_extension": ".py",
   "mimetype": "text/x-python",
   "name": "python",
   "nbconvert_exporter": "python",
   "pygments_lexer": "ipython3",
   "version": "3.10.4"
  }
 },
 "nbformat": 4,
 "nbformat_minor": 5
}
